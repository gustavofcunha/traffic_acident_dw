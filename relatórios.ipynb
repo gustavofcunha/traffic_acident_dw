{
 "cells": [
  {
   "cell_type": "code",
   "execution_count": 3,
   "id": "5d69e8a9",
   "metadata": {},
   "outputs": [
    {
     "name": "stdout",
     "output_type": "stream",
     "text": [
      "Defaulting to user installation because normal site-packages is not writeable\n",
      "Requirement already satisfied: seaborn in /home/gustavocunha/.local/lib/python3.10/site-packages (0.13.2)\n",
      "Requirement already satisfied: matplotlib!=3.6.1,>=3.4 in /home/gustavocunha/.local/lib/python3.10/site-packages (from seaborn) (3.8.3)\n",
      "Requirement already satisfied: pandas>=1.2 in /home/gustavocunha/.local/lib/python3.10/site-packages (from seaborn) (2.2.3)\n",
      "Requirement already satisfied: numpy!=1.24.0,>=1.20 in /home/gustavocunha/.local/lib/python3.10/site-packages (from seaborn) (1.26.3)\n",
      "Requirement already satisfied: packaging>=20.0 in /home/gustavocunha/.local/lib/python3.10/site-packages (from matplotlib!=3.6.1,>=3.4->seaborn) (23.2)\n",
      "Requirement already satisfied: kiwisolver>=1.3.1 in /home/gustavocunha/.local/lib/python3.10/site-packages (from matplotlib!=3.6.1,>=3.4->seaborn) (1.4.5)\n",
      "Requirement already satisfied: pillow>=8 in /home/gustavocunha/.local/lib/python3.10/site-packages (from matplotlib!=3.6.1,>=3.4->seaborn) (10.3.0)\n",
      "Requirement already satisfied: python-dateutil>=2.7 in /home/gustavocunha/.local/lib/python3.10/site-packages (from matplotlib!=3.6.1,>=3.4->seaborn) (2.8.2)\n",
      "Requirement already satisfied: contourpy>=1.0.1 in /home/gustavocunha/.local/lib/python3.10/site-packages (from matplotlib!=3.6.1,>=3.4->seaborn) (1.2.0)\n",
      "Requirement already satisfied: pyparsing>=2.3.1 in /usr/lib/python3/dist-packages (from matplotlib!=3.6.1,>=3.4->seaborn) (2.4.7)\n",
      "Requirement already satisfied: cycler>=0.10 in /home/gustavocunha/.local/lib/python3.10/site-packages (from matplotlib!=3.6.1,>=3.4->seaborn) (0.12.1)\n",
      "Requirement already satisfied: fonttools>=4.22.0 in /home/gustavocunha/.local/lib/python3.10/site-packages (from matplotlib!=3.6.1,>=3.4->seaborn) (4.50.0)\n",
      "Requirement already satisfied: pytz>=2020.1 in /home/gustavocunha/.local/lib/python3.10/site-packages (from pandas>=1.2->seaborn) (2023.4)\n",
      "Requirement already satisfied: tzdata>=2022.7 in /home/gustavocunha/.local/lib/python3.10/site-packages (from pandas>=1.2->seaborn) (2023.4)\n",
      "Requirement already satisfied: six>=1.5 in /usr/lib/python3/dist-packages (from python-dateutil>=2.7->matplotlib!=3.6.1,>=3.4->seaborn) (1.16.0)\n"
     ]
    }
   ],
   "source": [
    "!pip install seaborn"
   ]
  },
  {
   "cell_type": "code",
   "execution_count": 21,
   "id": "5eadd43e",
   "metadata": {},
   "outputs": [
    {
     "name": "stdout",
     "output_type": "stream",
     "text": [
      "       numero_boletim data_hora_boletim     data_inclusao tipo_acidente  \\\n",
      "0  2021-009100344-001  21/02/2021 17:02  21/02/2021 18:17        H08002   \n",
      "\n",
      "                                  desc_tipo_acidente  cod_tempo  \\\n",
      "0  CHOQUE MECANICO COM VITIMA                    ...          4   \n",
      "\n",
      "        desc_tempo  cod_pavimento        pavimento  cod_regional  \\\n",
      "0  NUBLADO                      1  ASFALTO                    23   \n",
      "\n",
      "     desc_regional   origem_boletim local_sinalizado  velocidade_permitida  \\\n",
      "0  NORTE            POLICIA MILITAR              NÃO                    60   \n",
      "\n",
      "   coordenada_x  coordenada_y hora_informada indicador_fatalidade  valor_ups  \\\n",
      "0     613674.04    7805466.31            SIM                  SIM          0   \n",
      "\n",
      "   descricao_ups data_alteracao_smsa  valor_ups_antiga descricao_ups_antiga  \n",
      "0  NÃO INFORMADO          00/00/0000                 0        NÃO INFORMADO  \n"
     ]
    }
   ],
   "source": [
    "import duckdb\n",
    "import pandas as pd\n",
    "import seaborn as sns\n",
    "import matplotlib.pyplot as plt\n",
    "\n",
    "con.close()\n",
    "con = duckdb.connect('dev.duckdb', read_only=True)\n",
    "\n",
    "query = \"SELECT * FROM main.stg_base_bruta_acidentes WHERE numero_boletim = '2021-009100344-001'\"\n",
    "df = con.execute(query).fetchdf()\n",
    "\n",
    "# Configura o pandas para mostrar todas as colunas ao imprimir o DataFrame\n",
    "pd.set_option('display.max_columns', None)\n",
    "\n",
    "# Agora imprime as 100 primeiras linhas com todas as colunas visíveis\n",
    "print(df.head(100))\n"
   ]
  },
  {
   "cell_type": "code",
   "execution_count": 20,
   "id": "b6416ae7",
   "metadata": {},
   "outputs": [],
   "source": [
    "con.close()"
   ]
  }
 ],
 "metadata": {
  "kernelspec": {
   "display_name": "Python 3",
   "language": "python",
   "name": "python3"
  },
  "language_info": {
   "codemirror_mode": {
    "name": "ipython",
    "version": 3
   },
   "file_extension": ".py",
   "mimetype": "text/x-python",
   "name": "python",
   "nbconvert_exporter": "python",
   "pygments_lexer": "ipython3",
   "version": "3.10.12"
  }
 },
 "nbformat": 4,
 "nbformat_minor": 5
}
